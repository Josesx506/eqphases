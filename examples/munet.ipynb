{
 "cells": [
  {
   "cell_type": "code",
   "execution_count": 34,
   "id": "8efd65d9",
   "metadata": {},
   "outputs": [
    {
     "name": "stdout",
     "output_type": "stream",
     "text": [
      "The autoreload extension is already loaded. To reload it, use:\n",
      "  %reload_ext autoreload\n"
     ]
    }
   ],
   "source": [
    "%load_ext autoreload\n",
    "%autoreload 2\n",
    "\n",
    "from glob import glob\n",
    "\n",
    "import matplotlib.pyplot as plt\n",
    "import numpy as np\n",
    "import pandas as pd\n",
    "from obspy import read, UTCDateTime\n",
    "\n",
    "from seistools.models import load_munet\n",
    "from seistools.processing import Normalize, single_file_prediction\n",
    "from seistools.utils import get_repo_dir"
   ]
  },
  {
   "cell_type": "markdown",
   "id": "7b273246",
   "metadata": {},
   "source": [
    "### Load the model and specify the path to the waveforms\n",
    "The folder structure is\n",
    "```bash\n",
    "examples/\n",
    "├── data\n",
    "│   ├── GS.LA01.20120730T000000Z__20120731T000000Z.mseed\n",
    "│   ├── GS.LA02.20120730T000000Z__20120731T000000Z.mseed\n",
    "│   ├── GS.LA03.20120730T000000Z__20120731T000000Z.mseed\n",
    "│   └── GS.LA06.20120730T000000Z__20120731T000000Z.mseed\n",
    "└── munet.ipynb\n",
    "```\n",
    "Each mseed file contains 3C waveforms. If one component waveforms are used, the functions automatically \n",
    "fills the remaining two components with zeros. This can cause degraded performance with `munet` because \n",
    "it expects 3 components when used. <br>\n",
    "If you have multiple components with similar naming format, you can read them in with the `*` wildcard \n",
    "and export as 3C files\n",
    "```python\n",
    "from obspy import read\n",
    "file = read(f\"GS.LA06.00.BH*__20120730T000000Z__20120731T000000Z.mseed\")\n",
    "file.write(f\"GS.LA06.20120730T000000Z__20120731T000000Z.mseed\", format=\"mseed\")\n",
    "```"
   ]
  },
  {
   "cell_type": "code",
   "execution_count": null,
   "id": "c7f499fe",
   "metadata": {},
   "outputs": [],
   "source": [
    "model = load_munet()\n",
    "win_len = 600 # number of samples for munet model\n",
    "transform = Normalize(\"mnmx\", axis=0)\n",
    "# Sample data from July 30 Bayou Corne with 4 stations\n",
    "files_pth = f\"{get_repo_dir()}/examples/data\"\n",
    "all_files = sorted(glob(f\"{files_pth}/*.mseed\"))\n"
   ]
  },
  {
   "cell_type": "markdown",
   "id": "24058fae",
   "metadata": {},
   "source": [
    "### Perform predictions over each file in the folder\n",
    "This code block allows you to serially generate phase picks for each waveform in a directory. If you're using the command line interface, the loop is automatically processed across multiple cpus and you only need to specify the data directory. <br>\n",
    "For best results, crop your data into 24h long waveforms (timing in UTC), and save all station waveforms for that day in the same directory e.g\n",
    "```bash\n",
    "data\n",
    "├── July_30/\n",
    "├── July_31/\n",
    "└── August_01/\n",
    "```\n",
    "The function does not return any output. The resulting picks are saved in a csv file within the `picks` directory. You can read the saved picks and plot them for viewing purposes"
   ]
  },
  {
   "cell_type": "code",
   "execution_count": 9,
   "id": "28961195",
   "metadata": {},
   "outputs": [
    {
     "name": "stderr",
     "output_type": "stream",
     "text": [
      "\u001b[32m2025-08-31 13:14:39.552\u001b[0m | \u001b[1mINFO    \u001b[0m | \u001b[36mseistools.processing.inference\u001b[0m:\u001b[36mdetect_phases\u001b[0m:\u001b[36m63\u001b[0m - \u001b[1mDetecting phases using munet\u001b[0m\n"
     ]
    },
    {
     "name": "stdout",
     "output_type": "stream",
     "text": [
      "\u001b[1m240/240\u001b[0m \u001b[32m━━━━━━━━━━━━━━━━━━━━\u001b[0m\u001b[37m\u001b[0m \u001b[1m5s\u001b[0m 21ms/step\n"
     ]
    },
    {
     "name": "stderr",
     "output_type": "stream",
     "text": [
      "\u001b[32m2025-08-31 13:14:44.848\u001b[0m | \u001b[1mINFO    \u001b[0m | \u001b[36mseistools.processing.inference\u001b[0m:\u001b[36mdetect_phases\u001b[0m:\u001b[36m144\u001b[0m - \u001b[1mFinished event detections for station GS.LA01 on 2012-07-30. csv file saved in /Users/ppersaud/Research/eqphases/picks/20120730_munet\u001b[0m\n",
      "\u001b[32m2025-08-31 13:14:44.849\u001b[0m | \u001b[1mINFO    \u001b[0m | \u001b[36mseistools.processing.inference\u001b[0m:\u001b[36msingle_file_prediction\u001b[0m:\u001b[36m204\u001b[0m - \u001b[1mPhase picking completed successfully.\u001b[0m\n",
      "\u001b[32m2025-08-31 13:14:45.909\u001b[0m | \u001b[1mINFO    \u001b[0m | \u001b[36mseistools.processing.inference\u001b[0m:\u001b[36mdetect_phases\u001b[0m:\u001b[36m63\u001b[0m - \u001b[1mDetecting phases using munet\u001b[0m\n"
     ]
    },
    {
     "name": "stdout",
     "output_type": "stream",
     "text": [
      "\u001b[1m240/240\u001b[0m \u001b[32m━━━━━━━━━━━━━━━━━━━━\u001b[0m\u001b[37m\u001b[0m \u001b[1m5s\u001b[0m 23ms/step\n"
     ]
    },
    {
     "name": "stderr",
     "output_type": "stream",
     "text": [
      "\u001b[32m2025-08-31 13:14:51.719\u001b[0m | \u001b[1mINFO    \u001b[0m | \u001b[36mseistools.processing.inference\u001b[0m:\u001b[36mdetect_phases\u001b[0m:\u001b[36m144\u001b[0m - \u001b[1mFinished event detections for station GS.LA02 on 2012-07-30. csv file saved in /Users/ppersaud/Research/eqphases/picks/20120730_munet\u001b[0m\n",
      "\u001b[32m2025-08-31 13:14:51.720\u001b[0m | \u001b[1mINFO    \u001b[0m | \u001b[36mseistools.processing.inference\u001b[0m:\u001b[36msingle_file_prediction\u001b[0m:\u001b[36m204\u001b[0m - \u001b[1mPhase picking completed successfully.\u001b[0m\n",
      "\u001b[32m2025-08-31 13:14:52.773\u001b[0m | \u001b[1mINFO    \u001b[0m | \u001b[36mseistools.processing.inference\u001b[0m:\u001b[36mdetect_phases\u001b[0m:\u001b[36m63\u001b[0m - \u001b[1mDetecting phases using munet\u001b[0m\n"
     ]
    },
    {
     "name": "stdout",
     "output_type": "stream",
     "text": [
      "\u001b[1m240/240\u001b[0m \u001b[32m━━━━━━━━━━━━━━━━━━━━\u001b[0m\u001b[37m\u001b[0m \u001b[1m5s\u001b[0m 23ms/step\n"
     ]
    },
    {
     "name": "stderr",
     "output_type": "stream",
     "text": [
      "\u001b[32m2025-08-31 13:14:58.542\u001b[0m | \u001b[1mINFO    \u001b[0m | \u001b[36mseistools.processing.inference\u001b[0m:\u001b[36mdetect_phases\u001b[0m:\u001b[36m144\u001b[0m - \u001b[1mFinished event detections for station GS.LA03 on 2012-07-30. csv file saved in /Users/ppersaud/Research/eqphases/picks/20120730_munet\u001b[0m\n",
      "\u001b[32m2025-08-31 13:14:58.543\u001b[0m | \u001b[1mINFO    \u001b[0m | \u001b[36mseistools.processing.inference\u001b[0m:\u001b[36msingle_file_prediction\u001b[0m:\u001b[36m204\u001b[0m - \u001b[1mPhase picking completed successfully.\u001b[0m\n",
      "\u001b[32m2025-08-31 13:14:59.614\u001b[0m | \u001b[1mINFO    \u001b[0m | \u001b[36mseistools.processing.inference\u001b[0m:\u001b[36mdetect_phases\u001b[0m:\u001b[36m63\u001b[0m - \u001b[1mDetecting phases using munet\u001b[0m\n"
     ]
    },
    {
     "name": "stdout",
     "output_type": "stream",
     "text": [
      "\u001b[1m240/240\u001b[0m \u001b[32m━━━━━━━━━━━━━━━━━━━━\u001b[0m\u001b[37m\u001b[0m \u001b[1m5s\u001b[0m 21ms/step\n"
     ]
    },
    {
     "name": "stderr",
     "output_type": "stream",
     "text": [
      "\u001b[32m2025-08-31 13:15:04.995\u001b[0m | \u001b[1mINFO    \u001b[0m | \u001b[36mseistools.processing.inference\u001b[0m:\u001b[36mdetect_phases\u001b[0m:\u001b[36m144\u001b[0m - \u001b[1mFinished event detections for station GS.LA06 on 2012-07-30. csv file saved in /Users/ppersaud/Research/eqphases/picks/20120730_munet\u001b[0m\n",
      "\u001b[32m2025-08-31 13:15:04.997\u001b[0m | \u001b[1mINFO    \u001b[0m | \u001b[36mseistools.processing.inference\u001b[0m:\u001b[36msingle_file_prediction\u001b[0m:\u001b[36m204\u001b[0m - \u001b[1mPhase picking completed successfully.\u001b[0m\n"
     ]
    }
   ],
   "source": [
    "for file in all_files:\n",
    "    single_file_prediction(file_path=file,fmin=1,fmax=19,win_len=win_len,\n",
    "                           transform=transform,model=model,model_name=\"munet\",\n",
    "                           overlap=0.25,p_thresh=0.5,s_thresh=0.5,min_pick_sep=3,\n",
    "                           freq=40,verbose=True)"
   ]
  },
  {
   "cell_type": "markdown",
   "id": "2b0d7125",
   "metadata": {},
   "source": [
    "### Load and plot the picks for LA01\n",
    "Each phase pick has a phase type and probability indicating the confidence of the model. <br>\n",
    "The picks directory is created automatically if valid picks are detected by the ML model but it's not tracked by git. You'll need to copy the files elsewhere or rename them if you want to prevent them being overwritten"
   ]
  },
  {
   "cell_type": "code",
   "execution_count": 26,
   "id": "0a10faca",
   "metadata": {},
   "outputs": [
    {
     "name": "stdout",
     "output_type": "stream",
     "text": [
      "  Network-Station Phase  Prob                    Time\n",
      "0         GS.LA01     P  0.64 2012-07-30 00:11:52.540\n",
      "1         GS.LA01     P  0.57 2012-07-30 00:13:08.730\n",
      "2         GS.LA01     P  0.52 2012-07-30 00:16:23.420\n",
      "3         GS.LA01     P  0.65 2012-07-30 00:45:47.870\n",
      "4         GS.LA01     P  0.53 2012-07-30 00:51:36.180\n"
     ]
    }
   ],
   "source": [
    "picks_file = f\"{get_repo_dir()}/picks/20120730_munet/GS.LA01_detections.csv\"\n",
    "df = pd.read_csv(picks_file)\n",
    "df[\"Time\"] = pd.to_datetime(df[\"Time\"])\n",
    "print(df.head())\n",
    "\n",
    "# Split the phase types for plotting purposes\n",
    "df_p = df[df[\"Phase\"]==\"P\"].reset_index(drop=True)\n",
    "df_s = df[df[\"Phase\"]==\"S\"].reset_index(drop=True)\n",
    "\n",
    "# Read the waveforms\n",
    "la01 = read(all_files[0])"
   ]
  },
  {
   "cell_type": "markdown",
   "id": "0819216a",
   "metadata": {},
   "source": [
    "The plot is cropped to a 1 hr 30 minutes window"
   ]
  },
  {
   "cell_type": "code",
   "execution_count": 50,
   "id": "48718bf2",
   "metadata": {},
   "outputs": [
    {
     "data": {
      "image/png": "[encoded data removed]",
      "text/plain": [
       "<Figure size 1100x300 with 3 Axes>"
      ]
     },
     "metadata": {},
     "output_type": "display_data"
    }
   ],
   "source": [
    "fig,axs = plt.subplots(3,1,figsize=(11,3),sharex=True,gridspec_kw={\"hspace\":0.03})\n",
    "\n",
    "tmin = pd.to_datetime(\"2012-07-30 05:00:00\")\n",
    "tmax = pd.to_datetime(\"2012-07-30 06:30:00\")\n",
    "\n",
    "\n",
    "axs[0].margins(x=0.01)\n",
    "for idx,tr in enumerate(la01):\n",
    "    trc = tr.copy()\n",
    "    trc = trc.slice(starttime=UTCDateTime(tmin),endtime=UTCDateTime(tmax))\n",
    "    axs[idx].plot(trc.times(\"matplotlib\"),trc.data,c=\"k\",lw=1)\n",
    "    axs[idx].set_yticks([])\n",
    "\n",
    "for ax in axs:\n",
    "    ax.set_xlim(tmin, tmax)\n",
    "\n",
    "    # only plot picks within this range\n",
    "    p_mask = (df_p[\"Time\"] >= tmin) & (df_p[\"Time\"] <= tmax)\n",
    "    for t in df_p.loc[p_mask, \"Time\"]:\n",
    "        ax.axvline(t, color=\"r\", ls=\"-\", lw=1, alpha=0.7)\n",
    "    s_mask = (df_s[\"Time\"] >= tmin) & (df_s[\"Time\"] <= tmax)\n",
    "    for t in df_s.loc[s_mask, \"Time\"]:\n",
    "        ax.axvline(t, color=\"b\", ls=\"-\", lw=1, alpha=0.7)\n",
    "\n",
    "fig.autofmt_xdate(rotation=5)\n",
    "plt.show()"
   ]
  },
  {
   "cell_type": "code",
   "execution_count": null,
   "id": "88e1a59e",
   "metadata": {},
   "outputs": [],
   "source": []
  }
 ],
 "metadata": {
  "kernelspec": {
   "display_name": "eqphases-py3.11",
   "language": "python",
   "name": "python3"
  },
  "language_info": {
   "codemirror_mode": {
    "name": "ipython",
    "version": 3
   },
   "file_extension": ".py",
   "mimetype": "text/x-python",
   "name": "python",
   "nbconvert_exporter": "python",
   "pygments_lexer": "ipython3",
   "version": "3.11.7"
  }
 },
 "nbformat": 4,
 "nbformat_minor": 5
}
